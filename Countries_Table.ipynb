{
 "cells": [
  {
   "cell_type": "markdown",
   "metadata": {},
   "source": [
    "This dataset is about the information regarding countries table\n",
    "\n",
    "It is an unlabelled dataset and hence we are going to implement clustering algorithm here\n",
    "\n",
    "\n"
   ]
  },
  {
   "cell_type": "markdown",
   "metadata": {},
   "source": [
    "Start by importing all necessary modules"
   ]
  },
  {
   "cell_type": "code",
   "execution_count": 19,
   "metadata": {},
   "outputs": [],
   "source": [
    "import pandas as pd\n",
    "import numpy as np\n",
    "import matplotlib.pyplot as mtp\n",
    "from sklearn.metrics import silhouette_score"
   ]
  },
  {
   "cell_type": "markdown",
   "metadata": {},
   "source": [
    "Import dataset"
   ]
  },
  {
   "cell_type": "code",
   "execution_count": 20,
   "metadata": {},
   "outputs": [
    {
     "name": "stdout",
     "output_type": "stream",
     "text": [
      "                              country  rank         area   netChange  worldPercentage     density   densityMi  place\n",
      "0                               India     1   3287590.00      0.4184           0.1785    480.5033   1244.5036    356\n",
      "1                               China     2   9706961.00     -0.0113           0.1781    151.2696    391.7884    156\n",
      "2                       United States     3   9372610.00      0.0581           0.0425     37.1686     96.2666    840\n",
      "3                           Indonesia     4   1904569.00      0.0727           0.0347    147.8196    382.8528    360\n",
      "4                            Pakistan     5    881912.00      0.1495           0.0300    311.9625    807.9829    586\n",
      "5                             Nigeria     6    923768.00      0.1680           0.0280    245.7312    636.4439    566\n",
      "6                              Brazil     7   8515767.00      0.0393           0.0270     25.8936     67.0645     76\n",
      "7                          Bangladesh     8    147570.00      0.0557           0.0216   1328.6803   3441.2821     50\n",
      "8                              Russia     9  17098242.00     -0.0158           0.0180      8.8200     22.8439    643\n",
      "9                              Mexico    10   1964375.00      0.0299           0.0160     66.0797    171.1463    484\n",
      "10                           Ethiopia    11   1104300.00      0.1008           0.0158    112.1126    290.3716    231\n",
      "11                              Japan    12    377930.00     -0.0209           0.0154    338.2566    876.0845    392\n",
      "12                        Philippines    13    342353.00      0.0561           0.0147    393.5251   1019.2299    608\n",
      "13                              Egypt    14   1002450.00      0.0551           0.0141    113.2318    293.2704    818\n",
      "14                           DR Congo    15   2344858.00      0.1050           0.0128     45.1083    116.8305    180\n",
      "15                            Vietnam    16    331212.00      0.0208           0.0123    315.4110    816.9145    704\n",
      "16                               Iran    17   1648195.00      0.0208           0.0111     54.9601    142.3467    364\n",
      "17                             Turkey    18    783562.00      0.0143           0.0107    109.5206    283.6584    792\n",
      "18                            Germany    19    357114.00     -0.0012           0.0104    238.4002    617.4564    276\n",
      "19                           Thailand    20    513120.00      0.0030           0.0090    140.5416    364.0026    764\n",
      "20                     United Kingdom    21    242900.00      0.0072           0.0085    279.9851    725.1615    826\n",
      "21                           Tanzania    22    945087.00      0.0622           0.0084     76.1324    197.1830    834\n",
      "22                             France    23    551695.00      0.0040           0.0081    118.2646    306.3052    250\n",
      "23                       South Africa    24   1221037.00      0.0173           0.0075     49.8022    128.9876    710\n",
      "24                              Italy    25    301336.00     -0.0054           0.0074    199.0780    515.6121    380\n",
      "25                              Kenya    26    580367.00      0.0346           0.0069     96.8138    250.7477    404\n",
      "26                            Myanmar    27    676578.00      0.0125           0.0068     83.6227    216.5827    104\n",
      "27                           Colombia    28   1141748.00      0.0080           0.0065     46.9447    121.5868    170\n",
      "28                        South Korea    29    100210.00     -0.0012           0.0065    530.5744   1374.1876    410\n",
      "29                             Uganda    30    241550.00      0.0423           0.0061    242.2817    627.5097    800\n",
      "30                              Sudan    31   1886068.00      0.0394           0.0060     25.7543     66.7036    729\n",
      "31                              Spain    32    505992.00     -0.0014           0.0059     95.1236    246.3702    724\n",
      "32                          Argentina    33   2780400.00      0.0091           0.0057     16.7260     43.3203     32\n",
      "33                            Algeria    34   2381741.00      0.0218           0.0057     19.1484     49.5943     12\n",
      "34                               Iraq    35    438317.00      0.0322           0.0057    104.8183    271.4794    368\n",
      "35                        Afghanistan    36    652230.00      0.0357           0.0053     64.7622    167.7341      4\n",
      "36                             Poland    37    312679.00     -0.0286           0.0051    134.0152    347.0993    616\n",
      "37                             Canada    38   9984670.00      0.0104           0.0048      4.3256     11.2032    124\n",
      "38                            Morocco    39    446550.00      0.0120           0.0047     84.7861    219.5960    504\n",
      "39                       Saudi Arabia    40   2149690.00      0.0169           0.0046     17.1871     44.5147    682\n",
      "40                            Ukraine    41    603500.00      0.0428           0.0046     63.4184    164.2537    804\n",
      "41                             Angola    42   1246700.00      0.0352           0.0046     29.4250     76.2109     24\n",
      "42                         Uzbekistan    43    447400.00      0.0166           0.0044     79.8002    206.6824    860\n",
      "43                              Yemen    44    527968.00      0.0240           0.0043     65.2496    168.9964    887\n",
      "44                               Peru    45   1285216.00      0.0105           0.0043     26.8381     69.5106    604\n",
      "45                           Malaysia    46    330803.00      0.0116           0.0043    104.4241    270.4583    458\n",
      "46                              Ghana    47    238533.00      0.0206           0.0043    149.9650    388.4093    288\n",
      "47                         Mozambique    48    801590.00      0.0302           0.0042     43.1056    111.6434    508\n",
      "48                              Nepal    49    147181.00      0.0110           0.0039    215.5325    558.2293    524\n",
      "49                         Madagascar    50    587041.00      0.0230           0.0038     52.1240    135.0011    450\n",
      "50                        Ivory Coast    51    322463.00      0.0230           0.0036     90.7957    235.1609    384\n",
      "51                          Venezuela    52    916445.00      0.0179           0.0036     32.6949     84.6797    862\n",
      "52                           Cameroon    53    475442.00      0.0235           0.0036     60.6023    156.9598    120\n",
      "53                              Niger    54   1267000.00      0.0321           0.0034     21.4754     55.6212    562\n",
      "54                          Australia    55   7692024.00      0.0083           0.0033      3.4372      8.9024     36\n",
      "55                        North Korea    56    120538.00      0.0028           0.0033    217.2645    562.7151    408\n",
      "56                             Taiwan    57     36193.00      0.0009           0.0030    660.9188   1711.7796    158\n",
      "57                               Mali    58   1240192.00      0.0225           0.0029     19.0902     49.4437    466\n",
      "58                       Burkina Faso    59    272967.00      0.0185           0.0029     84.9835    220.1073    854\n",
      "59                              Syria    60    185180.00      0.0359           0.0029    126.4881    327.6042    760\n",
      "60                          Sri Lanka    61     65610.00      0.0018           0.0027    353.9214    916.6565    144\n",
      "61                             Malawi    62    118484.00      0.0169           0.0026    222.0169    575.0237    454\n",
      "62                             Zambia    63    752612.00      0.0178           0.0026     27.6702     71.6658    894\n",
      "63                            Romania    64    238391.00     -0.0103           0.0025     86.4604    223.9325    642\n",
      "64                              Chile    65    756102.00      0.0009           0.0025     26.4005     68.3772    152\n",
      "65                         Kazakhstan    66   2724900.00      0.0067           0.0024      7.2625     18.8099    398\n",
      "66                               Chad    67   1284000.00      0.0178           0.0023     14.5160     37.5965    148\n",
      "67                            Ecuador    68    276841.00      0.0060           0.0023     73.2424    189.6978    218\n",
      "68                            Somalia    69    637657.00      0.0176           0.0023     28.9211     74.9057    706\n",
      "69                          Guatemala    70    108889.00      0.0080           0.0023    168.8319    437.2746    320\n",
      "70                            Senegal    71    196722.00      0.0144           0.0022     92.2618    238.9580    686\n",
      "71                        Netherlands    72     41850.00      0.0017           0.0022    523.2640   1355.2538    528\n",
      "72                           Cambodia    73    181035.00      0.0057           0.0021     95.9938    248.6239    116\n",
      "73                           Zimbabwe    74    390757.00      0.0112           0.0021     43.0798    111.5766    716\n",
      "74                             Guinea    75    245857.00      0.0106           0.0018     57.7511    149.5755    324\n",
      "75                             Rwanda    76     26338.00      0.0101           0.0018    571.3289   1479.7417    646\n",
      "76                              Benin    77    112622.00      0.0115           0.0017    121.6107    314.9718    204\n",
      "77                            Burundi    78     27834.00      0.0111           0.0017    515.5202   1335.1973    108\n",
      "78                            Tunisia    79    163610.00      0.0035           0.0016     80.1894    207.6905    788\n",
      "79                            Bolivia    80   1098581.00      0.0057           0.0015     11.4360     29.6191     68\n",
      "80                              Haiti    81     27750.00      0.0045           0.0015    425.4268   1101.8554    332\n",
      "81                            Belgium    82     30528.00      0.0009           0.0015    385.9359    999.5741     56\n",
      "82                             Jordan    83     89342.00      0.0014           0.0014    127.6781    330.6864    400\n",
      "83                 Dominican Republic    84     48671.00      0.0032           0.0014    234.5885    607.5843    214\n",
      "84                               Cuba    85    109884.00     -0.0006           0.0014    107.8463    279.3220    192\n",
      "85                        South Sudan    86    619745.00      0.0058           0.0014     17.5475     45.4480    728\n",
      "86                             Sweden    87    450295.00      0.0020           0.0013     26.0558     67.4844    752\n",
      "87                           Honduras    88    112492.00      0.0053           0.0013     94.6805    245.2224    340\n",
      "88                     Czech Republic    89     78865.00      0.0003           0.0013    135.9521    352.1158    203\n",
      "89                         Azerbaijan    90     86600.00      0.0017           0.0013    125.9910    326.3167     31\n",
      "90                             Greece    91    131990.00     -0.0012           0.0013     80.2271    207.7883    300\n",
      "91                   Papua New Guinea    92    462840.00      0.0059           0.0013     22.8104     59.0790    598\n",
      "92                           Portugal    93     92090.00     -0.0008           0.0013    111.8666    289.7344    620\n",
      "93                            Hungary    94     93028.00     -0.0057           0.0013    111.2891    288.2386    348\n",
      "94                         Tajikistan    95    143100.00      0.0060           0.0013     73.0855    189.2916    762\n",
      "95               United Arab Emirates    96     83600.00      0.0024           0.0012    134.0027    347.0670    784\n",
      "96                            Belarus    97    207600.00     -0.0014           0.0012     46.7940    121.1964    112\n",
      "97                             Israel    98     20770.00      0.0043           0.0011    423.9612   1098.0595    376\n",
      "98                               Togo    99     56785.00      0.0065           0.0011    166.4607    431.1333    768\n",
      "99                            Austria   100     83871.00      0.0006           0.0011    108.5671    281.1889     40\n",
      "100                       Switzerland   101     41284.00      0.0018           0.0011    222.6103    576.5607    756\n",
      "101                      Sierra Leone   102     71740.00      0.0059           0.0011    121.7940    315.4465    694\n",
      "102                              Laos   103    236800.00      0.0033           0.0010     33.0753     85.6650    418\n",
      "103                         Hong Kong   104      1104.00      0.0002           0.0009   7134.8657  18479.3022    344\n",
      "104                            Serbia   105     88361.00     -0.0020           0.0009     81.7411    211.7095    688\n",
      "105                         Nicaragua   106    130373.00      0.0031           0.0009     58.5533    151.6532    558\n",
      "106                             Libya   107   1759540.00      0.0024           0.0009      3.9149     10.1395    434\n",
      "107                          Paraguay   108    406752.00      0.0027           0.0009     17.2704     44.7303    600\n",
      "108                        Kyrgyzstan   109    199951.00      0.0033           0.0008     35.1165     90.9518    417\n",
      "109                          Bulgaria   110    110879.00     -0.0027           0.0008     61.6039    159.5540    100\n",
      "110                      Turkmenistan   111    488100.00      0.0026           0.0008     13.8661     35.9132    795\n",
      "111                       El Salvador   112     21041.00      0.0010           0.0008    307.1884    795.6179    222\n",
      "112             Republic of the Congo   113    342000.00      0.0043           0.0008     17.8825     46.3156    178\n",
      "113                         Singapore   114       710.00      0.0012           0.0008   8377.0515  21696.5635    702\n",
      "114                           Denmark   115     43094.00      0.0009           0.0007    147.7728    382.7316    208\n",
      "115                          Slovakia   116     49037.00     -0.0033           0.0007    118.1849    306.0990    703\n",
      "116          Central African Republic   117    622984.00      0.0053           0.0007      9.2175     23.8733    140\n",
      "117                           Finland   118    338424.00      0.0001           0.0007     18.2453     47.2553    246\n",
      "118                            Norway   119    323802.00      0.0013           0.0007     15.0277     38.9217    578\n",
      "119                           Liberia   120    111369.00      0.0037           0.0007     56.2539    145.6976    430\n",
      "120                         Palestine   121      6220.00      0.0039           0.0007    892.2309   2310.8780    275\n",
      "121                           Lebanon   122     10452.00     -0.0045           0.0007    523.3558   1355.4916    422\n",
      "122                       New Zealand   123    270467.00      0.0013           0.0007     19.8553     51.4252    554\n",
      "123                        Costa Rica   124     51100.00      0.0011           0.0007    102.0794    264.3856    188\n",
      "124                           Ireland   125     70273.00      0.0011           0.0006     73.4059    190.1214    372\n",
      "125                        Mauritania   126   1030700.00      0.0041           0.0006      4.7181     12.2200    478\n",
      "126                              Oman   127    309500.00      0.0022           0.0006     15.0061     38.8658    512\n",
      "127                            Panama   128     75417.00      0.0019           0.0006     60.2330    156.0036    591\n",
      "128                            Kuwait   129     17818.00      0.0013           0.0005    241.8691    626.4411    414\n",
      "129                           Croatia   130     56594.00     -0.0007           0.0005     71.6336    185.5311    191\n",
      "130                           Eritrea   131    117600.00      0.0021           0.0005     30.9722     80.2180    232\n",
      "131                           Georgia   132     69700.00     -0.0005           0.0005     53.6521    138.9588    268\n",
      "132                          Mongolia   133   1564110.00      0.0015           0.0004      2.2133      5.7323    496\n",
      "133                           Moldova   134     33846.00     -0.0039           0.0004    104.4845    270.6149    498\n",
      "134                           Uruguay   135    181034.00   5555.0000           0.0004     19.5584     50.6562    858\n",
      "135                       Puerto Rico   136      8870.00      0.0003           0.0004    367.5664    951.9970    630\n",
      "136            Bosnia and Herzegovina   137     51209.00     -0.0006           0.0004     62.7119    162.4237     70\n",
      "137                           Albania   138     28748.00     -0.0003           0.0004    103.3737    267.7378      8\n",
      "138                           Jamaica   139     10991.00     45.0000           0.0004    260.8997    675.7303    388\n",
      "139                           Armenia   140     29743.00  66666.0000           0.0003     97.5753    252.7201     51\n",
      "140                            Gambia   141     10689.00      0.0022           0.0003    274.0285    709.7337    270\n",
      "141                         Lithuania   142     65300.00     -0.0008           0.0003     43.4103    112.4326    440\n",
      "142                             Qatar   143     11586.00      0.0007           0.0003    236.4135    612.3109    634\n",
      "143                          Botswana   144    582000.00      0.0014           0.0003      4.7207     12.2266     72\n",
      "144                           Namibia   145    825615.00      0.0012           0.0003      3.1631      8.1925    516\n",
      "145                             Gabon   146    267668.00      0.0015           0.0003      9.4561     24.4914    266\n",
      "146                           Lesotho   147     30355.00      0.0008           0.0003     76.7562    198.7985    426\n",
      "147                     Guinea-Bissau   148     36125.00      0.0014           0.0003     76.4880    198.1039    624\n",
      "148                          Slovenia   149     20273.00      0.0000           0.0003    105.2658    272.6385    705\n",
      "149                   North Macedonia   150     25713.00     -0.0002           0.0003     82.6994    214.1915    807\n",
      "150                            Latvia   151     64559.00     -0.0006           0.0002     29.4104     76.1730    428\n",
      "151                 Equatorial Guinea   152     28051.00      0.0013           0.0002     61.1291    158.3243    226\n",
      "152               Trinidad and Tobago   153      5130.00      0.0001           0.0002    299.2080    774.9487    780\n",
      "153                           Bahrain   154       765.00      0.0004           0.0002   1892.3682   4901.2335     48\n",
      "154                       Timor-Leste   155     14874.00      0.0006           0.0002     91.4994    236.9834    626\n",
      "155                           Estonia   156     45227.00     -0.0001           0.0002     30.9419     80.1394    233\n",
      "156                         Mauritius   157      2040.00    222.0000           0.0002    640.6685   1659.3313    480\n",
      "157                            Cyprus   158      9251.00      0.0003           0.0002    136.3786    353.2205    196\n",
      "158                          Eswatini   159     17364.00      0.0003           0.0002     70.3966    182.3273    748\n",
      "159                          Djibouti   160     23200.00      0.0005           0.0001     49.0274    126.9810    262\n",
      "160                           Reunion   161      2511.00      0.0002           0.0001    390.8424   1012.2817    638\n",
      "161                              Fiji   162     18272.00      0.0002           0.0001     51.2521    132.7428    242\n",
      "162                           Comoros   163      1862.00      0.0005           0.0001    457.8587   1185.8540    174\n",
      "163                            Guyana   164    214969.00      0.0002           0.0001      4.1343     10.7078    328\n",
      "164                            Bhutan   165     38394.00      0.0002           0.0001     20.6456     53.4722     64\n",
      "165                   Solomon Islands   166     28896.00      0.0005           0.0001     26.4532     68.5137     90\n",
      "166                             Macau   167        32.90      0.0003           0.0001  21402.7052  55433.0064    446\n",
      "167                        Luxembourg   168      2586.00      0.0002           0.0001    254.3282    658.7101    442\n",
      "168                        Montenegro   169     13812.00     53.0000           0.0001     46.5788    120.6391    499\n",
      "169                          Suriname   170    163820.00      0.0002           0.0001      3.9951     10.3473    740\n",
      "170                        Cape Verde   171      4033.00      0.0002           0.0001    148.4458    384.4747    132\n",
      "171                    Western Sahara   172    266000.00      0.0004           0.0001      2.2077      5.7180    732\n",
      "172                             Malta   173       316.00      0.0001           0.0001   1672.0750   4330.6743    470\n",
      "173                          Maldives   174       300.00     -0.0001           0.0001   1736.7367   4498.1480    462\n",
      "174                            Brunei   175      5765.00      0.0001           0.0001     85.8679    222.3979     96\n",
      "175                           Bahamas   176     13943.00      0.0001           0.0001     41.2211    106.7626     44\n",
      "176                            Belize   177     22966.00      0.0002           0.0001     18.0107     46.6478     84\n",
      "177                        Guadeloupe   178      1628.00     55.0000         455.0000    243.1443    629.7439    312\n",
      "178                           Iceland   179    103000.00      0.0001         455.0000      3.7223      9.6407    352\n",
      "179                        Martinique   180      1128.00     55.0000         455.0000    325.3378    842.6248    474\n",
      "180                           Mayotte   181       374.00      0.0003         455.0000    898.3824   2326.8103    175\n",
      "181                           Vanuatu   182     12189.00      0.0002         455.0000     27.4410     71.0722    548\n",
      "182                     French Guiana   183     83534.00      0.0002         455.0000      3.7369      9.6785    254\n",
      "183                  French Polynesia   184      4167.00      0.0001         455.0000     88.9865    230.4749    258\n",
      "184                     New Caledonia   185     18575.00      0.0001         455.0000     16.0280     41.5124    540\n",
      "185                          Barbados   186       430.00     55.0000         455.0000    655.8023   1698.5280     52\n",
      "186             Sao Tome and Principe   187       964.00      0.0001         455.0000    241.5167    625.5282    678\n",
      "187                             Samoa   188      2842.00      0.0001         455.0000     81.1802    210.2568    882\n",
      "188                           Curacao   189       444.00     48.0000         455.0000    432.6059   1120.4492    531\n",
      "189                       Saint Lucia   190       616.00     36.0000         455.0000    295.4934    765.3280    662\n",
      "190                              Guam   191       549.00     69.0000         455.0000    320.2815    829.5290    316\n",
      "191                          Kiribati   192       811.00      0.0001         455.0000    164.8333    426.9183    296\n",
      "192                           Grenada   193       344.00     55.0000         455.0000    371.1265    961.2176    308\n",
      "193                        Micronesia   194       702.00     23.0000         455.0000    164.6057    426.3288    583\n",
      "194                            Jersey   195       116.00     22.0000         455.0000    931.6833   2413.0598    832\n",
      "195                             Tonga   196       747.00     22.0000         455.0000    149.6847    387.6834    776\n",
      "196                        Seychelles   197       452.00     22.0000         455.0000    234.0435    606.1726    690\n",
      "197                             Aruba   198       180.00     22.0000         455.0000    590.4278   1529.2079    533\n",
      "198  Saint Vincent and the Grenadines   199       389.00     22.0000         455.0000    265.8923    688.6611    670\n",
      "199      United States Virgin Islands   200       347.00     22.0000         455.0000    284.5821    737.0677    850\n",
      "200               Antigua and Barbuda   201       442.00     22.0000         455.0000    214.3136    555.0723     28\n",
      "201                       Isle of Man   202       572.00     22.0000         455.0000    148.6140    384.9104    833\n",
      "202                           Andorra   203       468.00     26.0000         455.0000    170.4000    441.3360     20\n",
      "203                          Dominica   204       751.00     26.0000         455.0000     97.3867    252.2315    212\n",
      "204                    Cayman Islands   205       264.00     26.0000         455.0000    288.7917    747.9704    136\n",
      "205                           Bermuda   206        54.00     26.0000         455.0000   1186.4630   3072.9391     60\n",
      "206                          Guernsey   207        78.00     26.0000         455.0000   1008.6349   2612.3644    831\n",
      "207                         Greenland   208   2166086.00     26.0000         455.0000      0.1380      0.3574    304\n",
      "208                     Faroe Islands   209      1393.00     26.0000         455.0000     38.9971    101.0024    234\n",
      "209          Northern Mariana Islands   210       464.00     26.0000         455.0000    108.2522    280.3731    580\n",
      "210             Saint Kitts and Nevis   211       261.00     26.0000         455.0000    183.6731    475.7133    659\n",
      "211          Turks and Caicos Islands   212       948.00     26.0000         455.0000     48.5886    125.8445    796\n",
      "212                      Sint Maarten   213        34.00     26.0000         455.0000   1300.6471   3368.6759    534\n",
      "213                    American Samoa   214       199.00     26.0000         455.0000    219.5700    568.6863     16\n",
      "214                  Marshall Islands   215       181.00     26.0000         455.0000    233.3111    604.2758    584\n",
      "215                     Liechtenstein   216       160.00     26.0000         455.0000    247.4000    640.7660    438\n",
      "216                            Monaco   217         2.02     26.0000         455.0000  18148.5000  47004.6150    492\n",
      "217                        San Marino   218        61.00     26.0000         455.0000    560.7000   1452.2130    674\n",
      "218                         Gibraltar   219         6.80     26.0000         455.0000   4807.0588  12450.2824    292\n",
      "219                      Saint Martin   220        53.00     26.0000         455.0000    641.5400   1661.5886    663\n",
      "220            British Virgin Islands   221       151.00    888.0000         455.0000    210.2533    544.5561     92\n",
      "221                             Palau   222       459.00    888.0000         455.0000     39.2565    101.6744    585\n",
      "222                      Cook Islands   223       240.00    888.0000         455.0000     71.0167    183.9332    184\n",
      "223                          Anguilla   224        91.00    888.0000         455.0000    174.7143    452.5100    660\n",
      "224                             Nauru   225        21.00    888.0000         455.0000    639.0000   1655.0100    520\n",
      "225                 Wallis and Futuna   226       274.00    888.0000         455.0000     41.9781    108.7233    876\n",
      "226                            Tuvalu   227        26.00    888.0000         455.0000    379.8667    983.8547    798\n",
      "227                  Saint Barthelemy   228        21.00    888.0000         455.0000    439.7600   1138.9784    652\n",
      "228         Saint Pierre and Miquelon   229       242.00    888.0000         455.0000     24.1322     62.5025    666\n",
      "229                        Montserrat   230       102.00    888.0000         455.0000     43.0000    111.3700    500\n",
      "230                  Falkland Islands   231     12173.00    888.0000         455.0000      0.3114      0.8066    238\n",
      "231                              Niue   232       261.00    888.0000         455.0000      7.4138     19.2017    570\n",
      "232                           Tokelau   233        12.00    888.0000         455.0000    189.3000    490.2870    772\n",
      "233                      Vatican City   234         0.44    888.0000         455.0000   1177.2727   3049.1364    336\n"
     ]
    }
   ],
   "source": [
    "data = pd.read_csv(r'C:\\DATAS\\countries-table.csv')\n",
    "df=pd.DataFrame(data)\n",
    "print(df.to_string())"
   ]
  },
  {
   "cell_type": "markdown",
   "metadata": {},
   "source": [
    "Select features for x"
   ]
  },
  {
   "cell_type": "code",
   "execution_count": 21,
   "metadata": {},
   "outputs": [],
   "source": [
    "x = df.iloc[:, 1:-1].values"
   ]
  },
  {
   "cell_type": "markdown",
   "metadata": {},
   "source": [
    "Finding optimal number of clusters using the elbow method"
   ]
  },
  {
   "cell_type": "code",
   "execution_count": 22,
   "metadata": {},
   "outputs": [
    {
     "name": "stdout",
     "output_type": "stream",
     "text": [
      "[723262730895929.0, 130216445681444.53, 77209559939486.5, 23290150631370.08, 11664324808305.666, 9563880095418.236, 6407148644739.293, 3560189502711.488, 2523542206901.8345, 2114349525878.9146]\n"
     ]
    },
    {
     "data": {
      "image/png": "[encoded data removed]",
      "text/plain": [
       "<Figure size 640x480 with 1 Axes>"
      ]
     },
     "metadata": {},
     "output_type": "display_data"
    }
   ],
   "source": [
    "from sklearn.cluster import KMeans\n",
    "wcss_list= []\n",
    "#Initializing the list for the values of WCSS\n",
    "#Using for loop for iterations from 1 to 10.\n",
    "\n",
    "for i in range(1, 11):\n",
    "   kmeans = KMeans(n_clusters=i, init='k-means++', random_state= 30)\n",
    "   kmeans.fit(x)\n",
    "   wcss_list.append(kmeans.inertia_)\n",
    "print(wcss_list)\n",
    "mtp.plot(range(1, 11), wcss_list)\n",
    "mtp.title('The Elbow Method Graph')\n",
    "mtp.xlabel('Number of clusters(k)')\n",
    "mtp.ylabel('wcss_list')\n",
    "mtp.show()"
   ]
  },
  {
   "cell_type": "markdown",
   "metadata": {},
   "source": [
    "Training the K-means model on a dataset"
   ]
  },
  {
   "cell_type": "code",
   "execution_count": 23,
   "metadata": {},
   "outputs": [
    {
     "name": "stdout",
     "output_type": "stream",
     "text": [
      "[2 1 1 2 0 0 1 0 3 2 2 0 0 2 2 0 2 0 0 0 0 2 0 2 0 0 0 2 0 0 2 0 2 2 0 0 0\n",
      " 1 0 2 0 2 0 0 2 0 0 0 0 0 0 0 0 2 1 0 0 2 0 0 0 0 0 0 0 2 2 0 0 0 0 0 0 0\n",
      " 0 0 0 0 0 2 0 0 0 0 0 0 0 0 0 0 0 0 0 0 0 0 0 0 0 0 0 0 0 0 0 0 2 0 0 0 0\n",
      " 0 0 0 0 0 0 0 0 0 0 0 0 0 0 2 0 0 0 0 0 0 2 0 0 0 0 0 0 0 0 0 0 0 0 0 0 0\n",
      " 0 0 0 0 0 0 0 0 0 0 0 0 0 0 0 0 0 0 0 0 0 0 0 0 0 0 0 0 0 0 0 0 0 0 0 0 0\n",
      " 0 0 0 0 0 0 0 0 0 0 0 0 0 0 0 0 0 0 0 0 0 0 2 0 0 0 0 0 0 0 0 0 0 0 0 0 0\n",
      " 0 0 0 0 0 0 0 0 0 0 0 0]\n"
     ]
    }
   ],
   "source": [
    "kmeans = KMeans(n_clusters=4, init='k-means++', random_state= 30)\n",
    "y_predict= kmeans.fit_predict(x)\n",
    "print(y_predict)"
   ]
  },
  {
   "cell_type": "code",
   "execution_count": 24,
   "metadata": {},
   "outputs": [
    {
     "name": "stdout",
     "output_type": "stream",
     "text": [
      "0.7992696445905784\n"
     ]
    }
   ],
   "source": [
    "print(silhouette_score(x, kmeans.fit_predict(x)))"
   ]
  },
  {
   "cell_type": "markdown",
   "metadata": {},
   "source": [
    "Conclusion"
   ]
  },
  {
   "cell_type": "markdown",
   "metadata": {},
   "source": [
    "We have observed that the silhouette score of this model is 0.79 which is considered to be strong and hence our clustering result is well defined."
   ]
  }
 ],
 "metadata": {
  "kernelspec": {
   "display_name": "Python 3",
   "language": "python",
   "name": "python3"
  },
  "language_info": {
   "codemirror_mode": {
    "name": "ipython",
    "version": 3
   },
   "file_extension": ".py",
   "mimetype": "text/x-python",
   "name": "python",
   "nbconvert_exporter": "python",
   "pygments_lexer": "ipython3",
   "version": "3.11.5"
  }
 },
 "nbformat": 4,
 "nbformat_minor": 2
}
